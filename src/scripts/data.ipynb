{
 "cells": [
  {
   "cell_type": "markdown",
   "metadata": {},
   "source": [
    "# importation de mes donneées d'analyse"
   ]
  },
  {
   "cell_type": "code",
   "execution_count": 250,
   "metadata": {},
   "outputs": [
    {
     "name": "stdout",
     "output_type": "stream",
     "text": [
      "Category Tree:\n",
      "   categoryid  parentid\n",
      "0        1016     213.0\n",
      "1         809     169.0\n",
      "2         570       9.0\n",
      "3        1691     885.0\n",
      "4         536    1691.0\n",
      "\n",
      " Events:\n",
      "       timestamp  visitorid event  itemid  transactionid\n",
      "0  1433221332117     257597  view  355908            NaN\n",
      "1  1433224214164     992329  view  248676            NaN\n",
      "2  1433221999827     111016  view  318965            NaN\n",
      "3  1433221955914     483717  view  253185            NaN\n",
      "4  1433221337106     951259  view  367447            NaN\n",
      "\n",
      " Item Properties Part 1:\n",
      "       timestamp  itemid    property                            value\n",
      "0  1435460400000  460429  categoryid                             1338\n",
      "1  1441508400000  206783         888          1116713 960601 n277.200\n",
      "2  1439089200000  395014         400  n552.000 639502 n720.000 424566\n",
      "3  1431226800000   59481         790                       n15360.000\n",
      "4  1431831600000  156781         917                           828513\n",
      "\n",
      " Item Properties Part 2:\n",
      "       timestamp  itemid property            value\n",
      "0  1433041200000  183478      561           769062\n",
      "1  1439694000000  132256      976  n26.400 1135780\n",
      "2  1435460400000  420307      921  1149317 1257525\n",
      "3  1431831600000  403324      917          1204143\n",
      "4  1435460400000  230701      521           769062\n"
     ]
    }
   ],
   "source": [
    "import kaggle\n",
    "import subprocess\n",
    "import zipfile\n",
    "import pandas as pd\n",
    "import pandas as pd\n",
    "import numpy as np\n",
    "\n",
    "# Télécharger le dataset depuis Kaggle\n",
    "subprocess.run([\"kaggle\", \"datasets\", \"download\", \"-d\", \"retailrocket/ecommerce-dataset\"])\n",
    "\n",
    "# Décompresser le fichier zip téléchargé\n",
    "with zipfile.ZipFile('ecommerce-dataset.zip', 'r') as zip_ref:\n",
    "    zip_ref.extractall('../data')\n",
    "\n",
    "# Charger les fichiers CSV dans des DataFrames Pandas\n",
    "category_tree = pd.read_csv('../data/category_tree.csv')\n",
    "events = pd.read_csv('../data/events.csv')\n",
    "item_properties_part1 = pd.read_csv('../data/item_properties_part1.csv')\n",
    "item_properties_part2 = pd.read_csv('../data/item_properties_part2.csv')\n",
    "\n",
    "# Afficher les premières lignes de chaque DataFrame pour inspection\n",
    "print(\"Category Tree:\")\n",
    "print(category_tree.head())\n",
    "\n",
    "print(\"\\n Events:\")\n",
    "print(events.head())\n",
    "\n",
    "print(\"\\n Item Properties Part 1:\")\n",
    "print(item_properties_part1.head())\n",
    "\n",
    "print(\"\\n Item Properties Part 2:\")\n",
    "print(item_properties_part2.head())"
   ]
  },
  {
   "cell_type": "markdown",
   "metadata": {},
   "source": []
  },
  {
   "cell_type": "markdown",
   "metadata": {},
   "source": []
  },
  {
   "cell_type": "markdown",
   "metadata": {},
   "source": [
    "# I. Nettoyage des données pour faciliter mes analyses"
   ]
  },
  {
   "cell_type": "markdown",
   "metadata": {},
   "source": [
    "# 1. fusionner des datas identiques"
   ]
  },
  {
   "cell_type": "code",
   "execution_count": 251,
   "metadata": {},
   "outputs": [
    {
     "name": "stdout",
     "output_type": "stream",
     "text": [
      " nouvelle table des proprites : \n",
      "              timestamp  itemid    property                             value\n",
      "0         1435460400000  460429  categoryid                              1338\n",
      "1         1441508400000  206783         888           1116713 960601 n277.200\n",
      "2         1439089200000  395014         400   n552.000 639502 n720.000 424566\n",
      "3         1431226800000   59481         790                        n15360.000\n",
      "4         1431831600000  156781         917                            828513\n",
      "...                 ...     ...         ...                               ...\n",
      "20275897  1433646000000  236931         929                           n12.000\n",
      "20275898  1440903600000  455746           6                     150169 639134\n",
      "20275899  1439694000000  347565         686                            610834\n",
      "20275900  1433646000000  287231         867                            769062\n",
      "20275901  1442113200000  275768         888  888666 n10800.000 746840 1318567\n",
      "\n",
      "[20275902 rows x 4 columns]\n"
     ]
    }
   ],
   "source": [
    "\n",
    "item_properties = pd.concat([item_properties_part1, item_properties_part2] ,ignore_index='True')\n",
    "copie_items_properties =item_properties.copy()\n",
    "\n",
    "print(f\" nouvelle table des proprites : \\n{copie_items_properties}\")"
   ]
  },
  {
   "cell_type": "markdown",
   "metadata": {},
   "source": [
    "# 2. Vérifier les valeurs manquantes"
   ]
  },
  {
   "cell_type": "code",
   "execution_count": 252,
   "metadata": {},
   "outputs": [
    {
     "name": "stdout",
     "output_type": "stream",
     "text": [
      " valeurs manquantes pour la table item_properties : \n",
      "timestamp    0\n",
      "itemid       0\n",
      "property     0\n",
      "value        0\n",
      "dtype: int64\n",
      "\n",
      "\n",
      " valeurs manquantes pour la table events : \n",
      "timestamp              0\n",
      "visitorid              0\n",
      "event                  0\n",
      "itemid                 0\n",
      "transactionid    2733184\n",
      "dtype: int64\n",
      "\n",
      "\n",
      " valeurs manquantes pour la table categorie : \n",
      "categoryid     0\n",
      "parentid      25\n",
      "dtype: int64\n",
      "\n",
      "\n"
     ]
    }
   ],
   "source": [
    "\n",
    "events=events.drop_duplicates()\n",
    "copie_items_properties = copie_items_properties.drop_duplicates()\n",
    "icategory_tree = category_tree.drop_duplicates()\n",
    "\n",
    "print(f\" valeurs manquantes pour la table item_properties : \\n{copie_items_properties.isnull().sum()}\\n\\n\")\n",
    "print(f\" valeurs manquantes pour la table events : \\n{events.isnull().sum()}\\n\\n\")\n",
    "print(f\" valeurs manquantes pour la table categorie : \\n{category_tree.isnull().sum()}\\n\\n\")"
   ]
  },
  {
   "cell_type": "markdown",
   "metadata": {},
   "source": []
  },
  {
   "cell_type": "code",
   "execution_count": null,
   "metadata": {},
   "outputs": [],
   "source": []
  },
  {
   "cell_type": "markdown",
   "metadata": {},
   "source": [
    "# Analyse des valeurs manquantes :\n",
    "# Table item_properties_part1 et item_properties_part2 : Aucune valeur manquante, données complètes.\n",
    "# Table events : transactionid manquant pour 2733184 lignes, indiquant des événements sans transaction (ex: vues, ajouts au # panier). ⚠️ Risque d’analyse incomplète si ces absences ne sont pas prises en compte.\n",
    "# Table categorie : parentid manquant pour 25 catégories, probablement des catégories racines. ⚠️ Peut impacter l’analyse des # hiérarchies."
   ]
  },
  {
   "cell_type": "markdown",
   "metadata": {},
   "source": [
    ".................................................................................................................................\n",
    ".................................................................................................................................\n",
    ".................................................................................................................................\n",
    ".................................................................................................................................\n",
    ".................................................................................................................................\n",
    ".................................................................................................................................\n",
    "# II. analyse sur la table Events\n",
    ".................................................................................................................................\n",
    ".................................................................................................................................\n",
    ".................................................................................................................................\n",
    ".................................................................................................................................\n",
    ".................................................................................................................................\n",
    "................................................................................................................................."
   ]
  },
  {
   "cell_type": "markdown",
   "metadata": {},
   "source": []
  },
  {
   "cell_type": "markdown",
   "metadata": {},
   "source": [
    "# 1. observation sur la table"
   ]
  },
  {
   "cell_type": "code",
   "execution_count": 253,
   "metadata": {},
   "outputs": [
    {
     "name": "stdout",
     "output_type": "stream",
     "text": [
      "tête de la table : \n",
      " \n",
      "       timestamp  visitorid event  itemid  transactionid\n",
      "0  1433221332117     257597  view  355908            NaN\n",
      "1  1433224214164     992329  view  248676            NaN\n",
      "2  1433221999827     111016  view  318965            NaN\n",
      "3  1433221955914     483717  view  253185            NaN\n",
      "4  1433221337106     951259  view  367447            NaN\n"
     ]
    }
   ],
   "source": [
    "print(f\"tête de la table : \\n \\n{events.head()}\")"
   ]
  },
  {
   "cell_type": "markdown",
   "metadata": {},
   "source": [
    "# On filtre les événements pour ne conserver que ceux dont l’itemid existe aussi dans copie_items_properties \n",
    "(évite d'analyser des articles sans propriété associée).\n"
   ]
  },
  {
   "cell_type": "code",
   "execution_count": 254,
   "metadata": {},
   "outputs": [],
   "source": [
    "events = events[events.itemid.isin(copie_items_properties.itemid.unique())]\n",
    "\n"
   ]
  },
  {
   "cell_type": "markdown",
   "metadata": {},
   "source": [
    "# observation plus en details sur les valeurs de transactionid"
   ]
  },
  {
   "cell_type": "markdown",
   "metadata": {},
   "source": []
  },
  {
   "cell_type": "code",
   "execution_count": 255,
   "metadata": {},
   "outputs": [
    {
     "name": "stdout",
     "output_type": "stream",
     "text": [
      "different valeurs de transactionid : \n",
      " \n",
      "transactionid\n",
      "0.0        1\n",
      "1.0        1\n",
      "2.0        1\n",
      "3.0        1\n",
      "4.0        1\n",
      "          ..\n",
      "17667.0    1\n",
      "17668.0    1\n",
      "17669.0    2\n",
      "17670.0    1\n",
      "17671.0    1\n",
      "Length: 17313, dtype: int64\n"
     ]
    }
   ],
   "source": [
    "value_transactionid = events.groupby('transactionid').size()\n",
    "print(f\"different valeurs de transactionid : \\n \\n{value_transactionid}\")"
   ]
  },
  {
   "cell_type": "code",
   "execution_count": 256,
   "metadata": {},
   "outputs": [
    {
     "name": "stdout",
     "output_type": "stream",
     "text": [
      "Nombre total de valeurs manquantes dans transactionid : 2478083\n",
      "Valeurs avec transactionid manquant :\n",
      "\n",
      "             timestamp  visitorid event  itemid  transactionid\n",
      "0        1433221332117     257597  view  355908            NaN\n",
      "1        1433224214164     992329  view  248676            NaN\n",
      "3        1433221955914     483717  view  253185            NaN\n",
      "4        1433221337106     951259  view  367447            NaN\n",
      "5        1433224086234     972639  view   22556            NaN\n",
      "...                ...        ...   ...     ...            ...\n",
      "2756096  1438398785939     591435  view  261427            NaN\n",
      "2756097  1438399813142     762376  view  115946            NaN\n",
      "2756098  1438397820527    1251746  view   78144            NaN\n",
      "2756099  1438398530703    1184451  view  283392            NaN\n",
      "2756100  1438400163914     199536  view  152913            NaN\n",
      "\n",
      "[2478083 rows x 5 columns]\n"
     ]
    }
   ],
   "source": [
    "# Verifions a nouveau les valeurs manquants  \n",
    "\n",
    "nb_valeurs_manquantes = events['transactionid'].isna().sum()\n",
    "\n",
    "print(f\"Nombre total de valeurs manquantes dans transactionid : {nb_valeurs_manquantes}\")\n",
    "\n",
    "\n",
    "# Filtrer et afficher uniquement les lignes où transactionid est NaN\n",
    "value_transactionid = events[events['transactionid'].isna()]\n",
    "\n",
    "print(f\"Valeurs avec transactionid manquant :\\n\\n{value_transactionid}\")"
   ]
  },
  {
   "cell_type": "markdown",
   "metadata": {},
   "source": [
    "# partir de cette analyse nous remarquons que les valeurs manquantes on diminue dur au trie des events qui on une association avec les item_properties, nous pouvons conclure que les transactionid avec des valeurs NaN correspondent aux consultations de produits qui n'ont pas été achetés par les visiteurs."
   ]
  },
  {
   "cell_type": "markdown",
   "metadata": {},
   "source": [
    "# 2. amelioration ou conversion de timestamp en format date"
   ]
  },
  {
   "cell_type": "code",
   "execution_count": 257,
   "metadata": {},
   "outputs": [],
   "source": [
    "events[\"timestamp\"]= pd.to_datetime(events[\"timestamp\"], unit=\"ms\")"
   ]
  },
  {
   "cell_type": "markdown",
   "metadata": {},
   "source": [
    "# occurence des valeurs de event "
   ]
  },
  {
   "cell_type": "code",
   "execution_count": 288,
   "metadata": {},
   "outputs": [
    {
     "name": "stdout",
     "output_type": "stream",
     "text": [
      "size_event : \n",
      " \n",
      "event\n",
      "addtocart        68133\n",
      "transaction      21982\n",
      "view           2409950\n",
      "dtype: int64\n",
      "📁 Le fichier 'event_attributess.csv' a été créé avec succès !\n"
     ]
    }
   ],
   "source": [
    "\n",
    "event_attributes = events.groupby(\"event\").size()\n",
    "print(f\"size_event : \\n \\n{event_attributes}\")\n",
    "\n",
    "event_attributes.to_csv(\"../data/event_attributes.csv\",index=True)\n",
    "print(\"📁 Le fichier 'event_attributess.csv' a été créé avec succès !\")\n",
    "\n"
   ]
  },
  {
   "cell_type": "code",
   "execution_count": 259,
   "metadata": {},
   "outputs": [
    {
     "name": "stderr",
     "output_type": "stream",
     "text": [
      "C:\\Users\\user\\AppData\\Local\\Temp\\ipykernel_18688\\1693132528.py:6: FutureWarning: \n",
      "\n",
      "Passing `palette` without assigning `hue` is deprecated and will be removed in v0.14.0. Assign the `x` variable to `hue` and set `legend=False` for the same effect.\n",
      "\n",
      "  sns.barplot(x=event_attributes.index, y=event_attributes.values, palette=\"viridis\")\n"
     ]
    },
    {
     "data": {
      "image/png": "[encoded data removed]",
      "text/plain": [
       "<Figure size 1200x600 with 1 Axes>"
      ]
     },
     "metadata": {},
     "output_type": "display_data"
    }
   ],
   "source": [
    "import matplotlib.pyplot as plt\n",
    "import seaborn as sns\n",
    "\n",
    "# Création du graphique\n",
    "plt.figure(figsize=(12, 6))\n",
    "sns.barplot(x=event_attributes.index, y=event_attributes.values, palette=\"viridis\")\n",
    "\n",
    "# Ajout des titres et labels\n",
    "plt.xlabel(\"Type d'événement\")\n",
    "plt.ylabel(\"Nombre d'occurrences\")\n",
    "plt.title(\"Distribution des événements\")\n",
    "plt.xticks(rotation=45)  # Rotation des labels pour une meilleure lisibilité\n",
    "\n",
    "# Affichage du graphique\n",
    "plt.show()\n"
   ]
  },
  {
   "cell_type": "markdown",
   "metadata": {},
   "source": [
    "# Le graphique représente la distribution des événements liés à l'interaction des utilisateurs avec les produits. Les événements sont catégorisés en trois types :\n",
    "\n",
    "# View (Consultation du produit) – Le plus fréquent, avec un volume extrêmement élevé.\n",
    "# Add to cart (Ajout au panier) – Beaucoup moins fréquent que les consultations.\n",
    "# Transaction (Achat finalisé) – Le moins fréquent des trois."
   ]
  },
  {
   "cell_type": "markdown",
   "metadata": {},
   "source": [
    "# 3. selectionne des valeurs unique d'event "
   ]
  },
  {
   "cell_type": "code",
   "execution_count": 260,
   "metadata": {},
   "outputs": [
    {
     "name": "stdout",
     "output_type": "stream",
     "text": [
      "selection_event view: \n",
      "\n",
      "                      timestamp  visitorid event  itemid  transactionid\n",
      "0       2015-06-02 05:02:12.117     257597  view  355908            NaN\n",
      "1       2015-06-02 05:50:14.164     992329  view  248676            NaN\n",
      "3       2015-06-02 05:12:35.914     483717  view  253185            NaN\n",
      "4       2015-06-02 05:02:17.106     951259  view  367447            NaN\n",
      "5       2015-06-02 05:48:06.234     972639  view   22556            NaN\n",
      "...                         ...        ...   ...     ...            ...\n",
      "2756096 2015-08-01 03:13:05.939     591435  view  261427            NaN\n",
      "2756097 2015-08-01 03:30:13.142     762376  view  115946            NaN\n",
      "2756098 2015-08-01 02:57:00.527    1251746  view   78144            NaN\n",
      "2756099 2015-08-01 03:08:50.703    1184451  view  283392            NaN\n",
      "2756100 2015-08-01 03:36:03.914     199536  view  152913            NaN\n",
      "\n",
      "[2409950 rows x 5 columns]\n",
      "selection_event addtocart: \n",
      "\n",
      "                      timestamp  visitorid      event  itemid  transactionid\n",
      "17      2015-06-02 05:33:56.124     287857  addtocart    5206            NaN\n",
      "19      2015-06-02 04:57:58.505     158090  addtocart   10572            NaN\n",
      "63      2015-06-02 05:39:03.021    1193904  addtocart  255275            NaN\n",
      "112     2015-06-02 05:12:21.632     599528  addtocart  356475            NaN\n",
      "179     2015-06-02 04:54:40.956     105775  addtocart  312728            NaN\n",
      "...                         ...        ...        ...     ...            ...\n",
      "2755956 2015-08-01 03:40:00.805     831605  addtocart   57810            NaN\n",
      "2756056 2015-08-01 03:02:36.086      10670  addtocart  419736            NaN\n",
      "2756074 2015-08-01 03:49:54.744     144106  addtocart  141241            NaN\n",
      "2756078 2015-08-01 03:30:07.937     804736  addtocart  447661            NaN\n",
      "2756090 2015-08-01 03:30:11.281     804736  addtocart  346534            NaN\n",
      "\n",
      "[68133 rows x 5 columns]\n",
      "selection_event transaction: \n",
      "\n",
      "                      timestamp  visitorid        event  itemid  transactionid\n",
      "130     2015-06-02 05:17:56.276     599528  transaction  356475         4000.0\n",
      "304     2015-06-01 21:18:20.981     121688  transaction   15335        11117.0\n",
      "418     2015-06-01 21:25:15.008     552148  transaction   81345         5444.0\n",
      "814     2015-06-01 16:38:56.375     102019  transaction  150318        13556.0\n",
      "843     2015-06-01 16:01:58.180     189384  transaction  310791         7244.0\n",
      "...                         ...        ...          ...     ...            ...\n",
      "2755294 2015-07-31 21:12:56.570    1050575  transaction   31640         8354.0\n",
      "2755349 2015-07-31 21:57:58.779     861299  transaction  456602         3643.0\n",
      "2755508 2015-07-31 15:48:50.123     855941  transaction  235771         4385.0\n",
      "2755603 2015-07-31 15:12:40.300     548772  transaction   29167        13872.0\n",
      "2755607 2015-07-31 16:09:49.163    1051054  transaction  312728        17579.0\n",
      "\n",
      "[21982 rows x 5 columns]\n"
     ]
    }
   ],
   "source": [
    "event_view = events[events[\"event\"]==\"view\"]\n",
    "event_addtocart = events[events[\"event\"]==\"addtocart\"]\n",
    "event_transaction = events[events[\"event\"]==\"transaction\"]\n",
    "print(f\"selection_event view: \\n\\n{event_view}\")\n",
    "print(f\"selection_event addtocart: \\n\\n{event_addtocart}\")\n",
    "print(f\"selection_event transaction: \\n\\n{event_transaction}\")"
   ]
  },
  {
   "cell_type": "markdown",
   "metadata": {},
   "source": [
    "# 4. Analyse des événements pour comprendre le comportement utilisateur et calculer le taux de conversion\n"
   ]
  },
  {
   "cell_type": "markdown",
   "metadata": {},
   "source": [
    "# a. Identifier les utilisateurs ayant ajouté un produit au panier"
   ]
  },
  {
   "cell_type": "code",
   "execution_count": 286,
   "metadata": {},
   "outputs": [
    {
     "name": "stdout",
     "output_type": "stream",
     "text": [
      "utilisateurs qui ont ajoute un produit au panier: \n",
      "\n",
      "37387\n"
     ]
    }
   ],
   "source": [
    "user_addtocart = event_addtocart[\"visitorid\"].nunique()\n",
    "print(f\"utilisateurs qui ont ajoute un produit au panier: \\n\\n{user_addtocart}\")"
   ]
  },
  {
   "cell_type": "markdown",
   "metadata": {},
   "source": [
    "# b. Identifier les utilisateurs ayant vue des produits sans ajouté  au panier"
   ]
  },
  {
   "cell_type": "code",
   "execution_count": 262,
   "metadata": {},
   "outputs": [
    {
     "name": "stdout",
     "output_type": "stream",
     "text": [
      "Utilisateurs ayant vu des produits sans ajouter au panier : \n",
      "\n",
      "[ 257597  992329  483717 ...  591435  762376 1184451]\n"
     ]
    }
   ],
   "source": [
    "user_view_only = event_view[~event_view['visitorid'].isin(user_addtocart)]['visitorid'].unique()\n",
    "print(f\"Utilisateurs ayant vu des produits sans ajouter au panier : \\n\\n{user_view_only}\")\n",
    "\n"
   ]
  },
  {
   "cell_type": "markdown",
   "metadata": {},
   "source": [
    "# 3 Calculer le taux de conversion pour les deux groupes"
   ]
  },
  {
   "cell_type": "code",
   "execution_count": 263,
   "metadata": {},
   "outputs": [
    {
     "name": "stdout",
     "output_type": "stream",
     "text": [
      "Taux de conversion des utilisateurs ayant ajouté un produit au panier : 27.96%\n",
      "Taux de conversion des utilisateurs ayant seulement vu des produits : 0.09%\n"
     ]
    }
   ],
   "source": [
    "conv_addtocart = event_transaction[event_transaction[\"visitorid\"].isin(user_addtocart)][\"visitorid\"].nunique()/len(user_addtocart)\n",
    "\n",
    "conv_view_only = event_transaction[event_transaction[\"visitorid\"].isin(user_view_only)][\"visitorid\"].nunique()/len(user_view_only)\n",
    "# Affichage des résultats\n",
    "print(f\"Taux de conversion des utilisateurs ayant ajouté un produit au panier : {conv_addtocart:.2%}\")\n",
    "print(f\"Taux de conversion des utilisateurs ayant seulement vu des produits : {conv_view_only:.2%}\")"
   ]
  },
  {
   "cell_type": "markdown",
   "metadata": {},
   "source": [
    "# ✅ Les utilisateurs qui ajoutent un produit au panier ont un taux de conversion beaucoup plus élevé (27.96%) que ceux qui se contentent de voir les produits (0.09%)."
   ]
  },
  {
   "cell_type": "code",
   "execution_count": 264,
   "metadata": {},
   "outputs": [
    {
     "data": {
      "text/plain": [
       "\"3️⃣ Conclusion générale\\nL'ajout au panier est un levier clé pour améliorer \\nles conversions. Il est donc essentiel d'optimiser cette étape et de trouver des moyens \\nd'inciter plus d'utilisateurs à franchir le \\ncap entre la simple consultation et l'achat.\\n\\n💡 Action recommandée : Mettre en place des\\n stratégies pour transformer plus de visiteurs \\n en acheteurs en optimisant le tunnel de conversion (ex : notifications, offres limitées, simplification du checkout).\""
      ]
     },
     "execution_count": 264,
     "metadata": {},
     "output_type": "execute_result"
    }
   ],
   "source": [
    "\"\"\"3️⃣ Conclusion générale\n",
    "L'ajout au panier est un levier clé pour améliorer \n",
    "les conversions. Il est donc essentiel d'optimiser cette étape et de trouver des moyens \n",
    "d'inciter plus d'utilisateurs à franchir le \n",
    "cap entre la simple consultation et l'achat.\n",
    "\n",
    "💡 Action recommandée : Mettre en place des\n",
    " stratégies pour transformer plus de visiteurs \n",
    " en acheteurs en optimisant le tunnel de conversion (ex : notifications, offres limitées, simplification du checkout).\"\"\""
   ]
  },
  {
   "cell_type": "code",
   "execution_count": 285,
   "metadata": {},
   "outputs": [
    {
     "name": "stderr",
     "output_type": "stream",
     "text": [
      "C:\\Users\\user\\AppData\\Local\\Temp\\ipykernel_18688\\2783825821.py:18: FutureWarning: \n",
      "\n",
      "Passing `palette` without assigning `hue` is deprecated and will be removed in v0.14.0. Assign the `x` variable to `hue` and set `legend=False` for the same effect.\n",
      "\n",
      "  ax = sns.barplot(\n"
     ]
    },
    {
     "data": {
      "image/png": "[encoded data removed]",
      "text/plain": [
       "<Figure size 1000x600 with 1 Axes>"
      ]
     },
     "metadata": {},
     "output_type": "display_data"
    }
   ],
   "source": [
    "import pandas as pd\n",
    "import matplotlib.pyplot as plt\n",
    "import seaborn as sns\n",
    "\n",
    "# Style Seaborn\n",
    "sns.set_style(\"whitegrid\")\n",
    "\n",
    "# Données sous forme de DataFrame\n",
    "data = pd.DataFrame({\n",
    "    \"Catégories d'utilisateurs\": ['Ajout au panier', 'Vue uniquement'],\n",
    "    \"Taux de conversion (%)\": [conv_addtocart * 100, conv_view_only * 100]  # Convertir en %\n",
    "})\n",
    "\n",
    "# Création de la figure\n",
    "plt.figure(figsize=(10, 6))\n",
    "\n",
    "# Tracer le graphique à barres avec Seaborn\n",
    "ax = sns.barplot(\n",
    "    data=data, \n",
    "    x=\"Catégories d'utilisateurs\", \n",
    "    y=\"Taux de conversion (%)\", \n",
    "    palette=[\"green\", \"red\"]  # Couleurs améliorées\n",
    ")\n",
    "\n",
    "# Ajouter les valeurs au-dessus des barres\n",
    "for p in ax.patches:\n",
    "    ax.annotate(f\"{p.get_height():.2f}%\",  # Formater en pourcentage\n",
    "                (p.get_x() + p.get_width() / 2, p.get_height()), \n",
    "                ha='center', va='bottom', fontsize=12, fontweight='bold', color='black')\n",
    "\n",
    "# Ajouter les labels et le titre\n",
    "plt.xlabel(\"Catégories d'utilisateurs\", fontsize=14)\n",
    "plt.ylabel(\"Taux de conversion (%)\", fontsize=14)\n",
    "plt.title(\"Comparaison du taux de conversion\", fontsize=16, fontweight='bold')\n",
    "\n",
    "# Affichage du graphique\n",
    "plt.show()\n"
   ]
  },
  {
   "cell_type": "markdown",
   "metadata": {},
   "source": [
    "# TEST A/B"
   ]
  },
  {
   "cell_type": "markdown",
   "metadata": {},
   "source": [
    " Hypothèse à tester\n",
    "Nous avons constaté que :\n",
    "\n",
    "Les utilisateurs qui ajoutent un produit au panier (conv_addtocart) ont un taux de conversion plus élevé.\n",
    "Les utilisateurs qui ne font que consulter des produits (conv_view_only) ont un taux de conversion plus faible.\n",
    "\n",
    "💡 Hypothèse : En améliorant la visibilité et l'accessibilité du bouton \"Ajouter au panier\", nous pourrions augmenter le taux de conversion global."
   ]
  },
  {
   "cell_type": "markdown",
   "metadata": {},
   "source": [
    ".................................................................................................................................\n",
    ".................................................................................................................................\n",
    ".................................................................................................................................\n",
    ".................................................................................................................................\n",
    ".................................................................................................................................\n",
    ".................................................................................................................................\n",
    "# III. analyse sur la table item_properties_part1 et item_properties_part1\n",
    ".................................................................................................................................\n",
    ".................................................................................................................................\n",
    ".................................................................................................................................\n",
    ".................................................................................................................................\n",
    ".................................................................................................................................\n",
    "................................................................................................................................."
   ]
  },
  {
   "cell_type": "code",
   "execution_count": 266,
   "metadata": {},
   "outputs": [
    {
     "name": "stdout",
     "output_type": "stream",
     "text": [
      "nouvelle table de properties:\n",
      "               timestamp  itemid    property                             value\n",
      "0         1435460400000  460429  categoryid                              1338\n",
      "1         1441508400000  206783         888           1116713 960601 n277.200\n",
      "2         1439089200000  395014         400   n552.000 639502 n720.000 424566\n",
      "3         1431226800000   59481         790                        n15360.000\n",
      "4         1431831600000  156781         917                            828513\n",
      "...                 ...     ...         ...                               ...\n",
      "20275897  1433646000000  236931         929                           n12.000\n",
      "20275898  1440903600000  455746           6                     150169 639134\n",
      "20275899  1439694000000  347565         686                            610834\n",
      "20275900  1433646000000  287231         867                            769062\n",
      "20275901  1442113200000  275768         888  888666 n10800.000 746840 1318567\n",
      "\n",
      "[20275902 rows x 4 columns]\n"
     ]
    }
   ],
   "source": [
    "#plus haut on a deja fusionner nos datas maintenant reaffichons les\n",
    "print(f\"nouvelle table de properties:\\n {copie_items_properties}\")"
   ]
  },
  {
   "cell_type": "code",
   "execution_count": 267,
   "metadata": {},
   "outputs": [],
   "source": [
    "#convertions de la date en format date lisible\n",
    "\n",
    "copie_items_properties[\"timestamp\"] =pd.to_datetime(copie_items_properties[\"timestamp\"], unit=\"ms\")"
   ]
  },
  {
   "cell_type": "markdown",
   "metadata": {},
   "source": [
    "# creons un fichier csv de la table item_properties_part1 et item_properties_part1\n",
    "\n"
   ]
  },
  {
   "cell_type": "code",
   "execution_count": 268,
   "metadata": {},
   "outputs": [
    {
     "name": "stdout",
     "output_type": "stream",
     "text": [
      "📁 Le fichier 'properties.csv' a été créé avec succès !\n"
     ]
    }
   ],
   "source": [
    "copie_items_properties.to_csv(\"../data/properties.csv\",index=True)\n",
    "print(\"📁 Le fichier 'properties.csv' a été créé avec succès !\")"
   ]
  },
  {
   "cell_type": "markdown",
   "metadata": {},
   "source": [
    "# 2 .nettoyons les donnees en supprimant les doublons sur la table copie_items_properties"
   ]
  },
  {
   "cell_type": "code",
   "execution_count": 269,
   "metadata": {},
   "outputs": [
    {
     "name": "stdout",
     "output_type": "stream",
     "text": [
      "nombre de ligne dans la table copie_items_properties : \n",
      " (20275902, 4)\n",
      "nombre de ligne dans la table copie_items_properties : \n",
      " (20275902, 4)\n"
     ]
    }
   ],
   "source": [
    "# avant la suppression des doublons\n",
    "\n",
    "print(f\"nombre de ligne dans la table copie_items_properties : \\n {copie_items_properties.shape}\")\n",
    "\n",
    "copie_items_properties = copie_items_properties.drop_duplicates()\n",
    "\n",
    "# apres la suppression des doublons\n",
    "\n",
    "print(f\"nombre de ligne dans la table copie_items_properties : \\n {copie_items_properties.shape}\")\n"
   ]
  },
  {
   "cell_type": "markdown",
   "metadata": {},
   "source": [
    "Nous remarquons que nos données ne contiennent pas de doublons"
   ]
  },
  {
   "cell_type": "markdown",
   "metadata": {},
   "source": [
    "# essayons de comprendre pourquoi property de  copie_items_properties a la valeur :\"categoryid\""
   ]
  },
  {
   "cell_type": "code",
   "execution_count": 270,
   "metadata": {},
   "outputs": [
    {
     "name": "stdout",
     "output_type": "stream",
     "text": [
      "nbre d'occurene de la valeur categoryid :\n",
      "\n",
      "                   timestamp  itemid    property value\n",
      "0        2015-06-28 03:00:00  460429  categoryid  1338\n",
      "140      2015-05-24 03:00:00  281245  categoryid  1277\n",
      "151      2015-06-28 03:00:00   35575  categoryid  1059\n",
      "189      2015-07-19 03:00:00    8313  categoryid  1147\n",
      "197      2015-07-26 03:00:00   55102  categoryid    47\n",
      "...                      ...     ...         ...   ...\n",
      "20275797 2015-06-07 03:00:00  255696  categoryid  1404\n",
      "20275822 2015-05-10 03:00:00  390760  categoryid   324\n",
      "20275830 2015-07-26 03:00:00  211844  categoryid   256\n",
      "20275872 2015-06-28 03:00:00  444741  categoryid   511\n",
      "20275878 2015-06-28 03:00:00   97513  categoryid  1385\n",
      "\n",
      "[788214 rows x 4 columns]\n",
      "788214\n"
     ]
    }
   ],
   "source": [
    "# comptons le nombre d'occurence\n",
    "value_categoryid = copie_items_properties[copie_items_properties[\"property\"]==\"categoryid\"]\n",
    "print(f\"nbre d'occurene de la valeur categoryid :\\n\\n{value_categoryid}\")\n",
    "print(value_categoryid.shape[0])"
   ]
  },
  {
   "cell_type": "markdown",
   "metadata": {},
   "source": [
    "# avec la frequence eleve on peut conclure que categoryid n est pas une erreur mais on se pose toujours laquestion de savoir ce que ca represente vraiment"
   ]
  },
  {
   "cell_type": "markdown",
   "metadata": {},
   "source": [
    "# IV. Analyse sur la table categorie_tree"
   ]
  },
  {
   "cell_type": "code",
   "execution_count": 271,
   "metadata": {},
   "outputs": [
    {
     "name": "stdout",
     "output_type": "stream",
     "text": [
      "   categoryid  parentid\n",
      "0        1016     213.0\n",
      "1         809     169.0\n",
      "2         570       9.0\n",
      "3        1691     885.0\n",
      "4         536    1691.0\n",
      "<class 'pandas.core.frame.DataFrame'>\n",
      "RangeIndex: 1669 entries, 0 to 1668\n",
      "Data columns (total 2 columns):\n",
      " #   Column      Non-Null Count  Dtype  \n",
      "---  ------      --------------  -----  \n",
      " 0   categoryid  1669 non-null   int64  \n",
      " 1   parentid    1644 non-null   float64\n",
      "dtypes: float64(1), int64(1)\n",
      "memory usage: 26.2 KB\n",
      "None\n"
     ]
    }
   ],
   "source": [
    "# Afficher les premières lignes\n",
    "print(category_tree.head())\n",
    "\n",
    "# Informations sur le DataFrame\n",
    "print(category_tree.info())\n"
   ]
  },
  {
   "cell_type": "code",
   "execution_count": 272,
   "metadata": {},
   "outputs": [
    {
     "name": "stdout",
     "output_type": "stream",
     "text": [
      " valeurs manquantes pour la table categorie : \n",
      "categoryid     0\n",
      "parentid      25\n",
      "dtype: int64\n",
      "\n",
      "\n"
     ]
    }
   ],
   "source": [
    "print(f\" valeurs manquantes pour la table categorie : \\n{category_tree.isnull().sum()}\\n\\n\")"
   ]
  },
  {
   "cell_type": "code",
   "execution_count": 273,
   "metadata": {},
   "outputs": [
    {
     "name": "stdout",
     "output_type": "stream",
     "text": [
      " differents valeurs la colonne parentid : \n",
      "parentid\n",
      "8.0        5\n",
      "9.0        6\n",
      "14.0       7\n",
      "19.0       1\n",
      "20.0       5\n",
      "          ..\n",
      "1687.0    17\n",
      "1691.0     2\n",
      "1692.0     3\n",
      "1696.0     3\n",
      "1698.0     7\n",
      "Length: 362, dtype: int64\n",
      "\n",
      "\n",
      " differents valeurs nan : \n",
      "      categoryid  parentid\n",
      "72           397       8.0\n",
      "73          1230       8.0\n",
      "74           681       8.0\n",
      "1181        1225       8.0\n",
      "1182          70       8.0\n",
      "\n",
      "\n"
     ]
    }
   ],
   "source": [
    "value_prentid=category_tree.groupby(\"parentid\").size()\n",
    "print(f\" differents valeurs la colonne parentid : \\n{value_prentid}\\n\\n\")\n",
    "\n",
    "value_nan = category_tree[category_tree[\"parentid\"]==8]\n",
    "print(f\" differents valeurs nan : \\n{value_nan}\\n\\n\")"
   ]
  },
  {
   "cell_type": "code",
   "execution_count": 274,
   "metadata": {},
   "outputs": [
    {
     "name": "stdout",
     "output_type": "stream",
     "text": [
      "Nombre de catégories principales : 25\n"
     ]
    }
   ],
   "source": [
    "# Compter le nombre de catégories principales (sans parent)\n",
    "root_categories = category_tree[category_tree['parentid'].isnull()].shape[0]\n",
    "print(f\"Nombre de catégories principales : {root_categories}\")"
   ]
  },
  {
   "cell_type": "code",
   "execution_count": 275,
   "metadata": {},
   "outputs": [
    {
     "name": "stdout",
     "output_type": "stream",
     "text": [
      "Top 5 des catégories avec le plus d'enfants directs :\n",
      "parentid\n",
      "250.0     31\n",
      "362.0     22\n",
      "1009.0    22\n",
      "351.0     19\n",
      "1259.0    18\n",
      "          ..\n",
      "95.0       1\n",
      "323.0      1\n",
      "747.0      1\n",
      "183.0      1\n",
      "209.0      1\n",
      "Name: count, Length: 362, dtype: int64\n"
     ]
    }
   ],
   "source": [
    "# Compter le nombre d'enfants pour chaque catégorie\n",
    "child_category_tree =category_tree['parentid'].value_counts()\n",
    "print(\"Top 5 des catégories avec le plus d'enfants directs :\")\n",
    "print(child_category_tree)"
   ]
  },
  {
   "cell_type": "code",
   "execution_count": 276,
   "metadata": {},
   "outputs": [
    {
     "data": {
      "image/png": "[encoded data removed]",
      "text/plain": [
       "<Figure size 1000x600 with 1 Axes>"
      ]
     },
     "metadata": {},
     "output_type": "display_data"
    }
   ],
   "source": [
    "\n",
    "\n",
    "# Distribution du nombre d'enfants par catégorie\n",
    "plt.figure(figsize=(10, 6))\n",
    "child_category_tree.hist(bins=20)\n",
    "plt.title(\"Distribution du nombre d'enfants par catégorie\")\n",
    "plt.xlabel(\"Nombre d'enfants\")\n",
    "plt.ylabel(\"Nombre de catégories\")\n",
    "plt.show()"
   ]
  },
  {
   "cell_type": "code",
   "execution_count": null,
   "metadata": {},
   "outputs": [],
   "source": []
  },
  {
   "cell_type": "code",
   "execution_count": 277,
   "metadata": {},
   "outputs": [
    {
     "name": "stdout",
     "output_type": "stream",
     "text": [
      "Nombre de catégories feuilles : 1307\n"
     ]
    }
   ],
   "source": [
    "# Identifier les catégories feuilles (sans enfants)\n",
    "leaf_categories = set(category_tree['categoryid']) - set(category_tree['parentid'].dropna())\n",
    "print(f\"Nombre de catégories feuilles : {len(leaf_categories)}\")"
   ]
  },
  {
   "cell_type": "markdown",
   "metadata": {},
   "source": [
    "# verification des cles de liaisons entre category_tree et copie_items_properties"
   ]
  },
  {
   "cell_type": "code",
   "execution_count": 278,
   "metadata": {},
   "outputs": [
    {
     "name": "stdout",
     "output_type": "stream",
     "text": [
      "set()\n"
     ]
    }
   ],
   "source": [
    "\n",
    "common_columns = set(category_tree.columns).intersection(set(copie_items_properties.columns))\n",
    "print(common_columns)"
   ]
  },
  {
   "cell_type": "markdown",
   "metadata": {},
   "source": [
    "il ne presente pas de cle de liaison"
   ]
  },
  {
   "cell_type": "code",
   "execution_count": 279,
   "metadata": {},
   "outputs": [
    {
     "name": "stdout",
     "output_type": "stream",
     "text": [
      "<class 'pandas.core.frame.DataFrame'>\n",
      "Index: 2500065 entries, 0 to 2756100\n",
      "Data columns (total 5 columns):\n",
      " #   Column         Dtype         \n",
      "---  ------         -----         \n",
      " 0   timestamp      datetime64[ns]\n",
      " 1   visitorid      int64         \n",
      " 2   event          object        \n",
      " 3   itemid         int64         \n",
      " 4   transactionid  float64       \n",
      "dtypes: datetime64[ns](1), float64(1), int64(2), object(1)\n",
      "memory usage: 114.4+ MB\n"
     ]
    },
    {
     "data": {
      "text/plain": [
       "None"
      ]
     },
     "metadata": {},
     "output_type": "display_data"
    },
    {
     "name": "stdout",
     "output_type": "stream",
     "text": [
      "<class 'pandas.core.frame.DataFrame'>\n",
      "Index: 1650853 entries, 0 to 20275890\n",
      "Data columns (total 4 columns):\n",
      " #   Column     Non-Null Count    Dtype         \n",
      "---  ------     --------------    -----         \n",
      " 0   timestamp  1650853 non-null  datetime64[ns]\n",
      " 1   itemid     1650853 non-null  int64         \n",
      " 2   property   1650853 non-null  object        \n",
      " 3   value      1650853 non-null  float64       \n",
      "dtypes: datetime64[ns](1), float64(1), int64(1), object(1)\n",
      "memory usage: 63.0+ MB\n"
     ]
    },
    {
     "data": {
      "text/plain": [
       "None"
      ]
     },
     "metadata": {},
     "output_type": "display_data"
    },
    {
     "name": "stdout",
     "output_type": "stream",
     "text": [
      "<class 'pandas.core.frame.DataFrame'>\n",
      "RangeIndex: 1669 entries, 0 to 1668\n",
      "Data columns (total 2 columns):\n",
      " #   Column      Non-Null Count  Dtype  \n",
      "---  ------      --------------  -----  \n",
      " 0   categoryid  1669 non-null   int64  \n",
      " 1   parentid    1644 non-null   float64\n",
      "dtypes: float64(1), int64(1)\n",
      "memory usage: 26.2 KB\n"
     ]
    },
    {
     "data": {
      "text/plain": [
       "None"
      ]
     },
     "metadata": {},
     "output_type": "display_data"
    }
   ],
   "source": [
    "\n",
    "# get only items relevant to events & price + cat properties\n",
    "copie_items_properties = copie_items_properties[copie_items_properties.property.isin([\"categoryid\",\"790\"]) & \n",
    "    copie_items_properties.itemid.isin(events.itemid.unique())]\n",
    "# clean-up values & property data types\n",
    "copie_items_properties.value = copie_items_properties.value.str.replace(\"n\",\"\").astype(\"float\")\n",
    "copie_items_properties.property = copie_items_properties.property.map({\"790\":\"price\",\n",
    "    \"categoryid\":\"categoryid\"})\n",
    "# similarily, clean up events\n",
    "events = events[events.itemid.isin(copie_items_properties.itemid.unique())]\n",
    "# del unused vars\n",
    "\n",
    "# examine results\n",
    "display(events.info())\n",
    "display(copie_items_properties.info())\n",
    "display(category_tree.info())"
   ]
  }
 ],
 "metadata": {
  "kernelspec": {
   "display_name": "base",
   "language": "python",
   "name": "python3"
  },
  "language_info": {
   "codemirror_mode": {
    "name": "ipython",
    "version": 3
   },
   "file_extension": ".py",
   "mimetype": "text/x-python",
   "name": "python",
   "nbconvert_exporter": "python",
   "pygments_lexer": "ipython3",
   "version": "3.12.7"
  }
 },
 "nbformat": 4,
 "nbformat_minor": 2
}
