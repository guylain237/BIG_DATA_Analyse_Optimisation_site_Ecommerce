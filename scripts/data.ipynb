{
 "cells": [
  {
   "cell_type": "code",
   "execution_count": 1,
   "metadata": {},
   "outputs": [
    {
     "name": "stdout",
     "output_type": "stream",
     "text": [
      "Category Tree:\n",
      "   categoryid  parentid\n",
      "0        1016     213.0\n",
      "1         809     169.0\n",
      "2         570       9.0\n",
      "3        1691     885.0\n",
      "4         536    1691.0\n",
      "\n",
      " Events:\n",
      "       timestamp  visitorid event  itemid  transactionid\n",
      "0  1433221332117     257597  view  355908            NaN\n",
      "1  1433224214164     992329  view  248676            NaN\n",
      "2  1433221999827     111016  view  318965            NaN\n",
      "3  1433221955914     483717  view  253185            NaN\n",
      "4  1433221337106     951259  view  367447            NaN\n",
      "\n",
      " Item Properties Part 1:\n",
      "       timestamp  itemid    property                            value\n",
      "0  1435460400000  460429  categoryid                             1338\n",
      "1  1441508400000  206783         888          1116713 960601 n277.200\n",
      "2  1439089200000  395014         400  n552.000 639502 n720.000 424566\n",
      "3  1431226800000   59481         790                       n15360.000\n",
      "4  1431831600000  156781         917                           828513\n",
      "\n",
      " Item Properties Part 2:\n",
      "       timestamp  itemid property            value\n",
      "0  1433041200000  183478      561           769062\n",
      "1  1439694000000  132256      976  n26.400 1135780\n",
      "2  1435460400000  420307      921  1149317 1257525\n",
      "3  1431831600000  403324      917          1204143\n",
      "4  1435460400000  230701      521           769062\n"
     ]
    }
   ],
   "source": [
    "import kaggle\n",
    "import subprocess\n",
    "import zipfile\n",
    "import pandas as pd\n",
    "import pandas as pd\n",
    "import numpy as np\n",
    "\n",
    "# Télécharger le dataset depuis Kaggle\n",
    "subprocess.run([\"kaggle\", \"datasets\", \"download\", \"-d\", \"retailrocket/ecommerce-dataset\"])\n",
    "\n",
    "# Décompresser le fichier zip téléchargé\n",
    "with zipfile.ZipFile('ecommerce-dataset.zip', 'r') as zip_ref:\n",
    "    zip_ref.extractall('../data/')\n",
    "\n",
    "# Charger les fichiers CSV dans des DataFrames Pandas\n",
    "category_tree = pd.read_csv('../data/category_tree.csv')\n",
    "events = pd.read_csv('../data/events.csv')\n",
    "item_properties_part1 = pd.read_csv('../data/item_properties_part1.csv')\n",
    "item_properties_part2 = pd.read_csv('../data/item_properties_part2.csv')\n",
    "\n",
    "# Afficher les premières lignes de chaque DataFrame pour inspection\n",
    "print(\"Category Tree:\")\n",
    "print(category_tree.head())\n",
    "\n",
    "print(\"\\n Events:\")\n",
    "print(events.head())\n",
    "\n",
    "print(\"\\n Item Properties Part 1:\")\n",
    "print(item_properties_part1.head())\n",
    "\n",
    "print(\"\\n Item Properties Part 2:\")\n",
    "print(item_properties_part2.head())"
   ]
  },
  {
   "cell_type": "code",
   "execution_count": null,
   "metadata": {},
   "outputs": [],
   "source": []
  }
 ],
 "metadata": {
  "kernelspec": {
   "display_name": "base",
   "language": "python",
   "name": "python3"
  },
  "language_info": {
   "codemirror_mode": {
    "name": "ipython",
    "version": 3
   },
   "file_extension": ".py",
   "mimetype": "text/x-python",
   "name": "python",
   "nbconvert_exporter": "python",
   "pygments_lexer": "ipython3",
   "version": "3.12.7"
  }
 },
 "nbformat": 4,
 "nbformat_minor": 2
}
