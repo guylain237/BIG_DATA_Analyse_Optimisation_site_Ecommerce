{
 "cells": [
  {
   "cell_type": "markdown",
   "metadata": {},
   "source": [
    "# importation de mes donneées d'analyse"
   ]
  },
  {
   "cell_type": "code",
   "execution_count": 166,
   "metadata": {},
   "outputs": [
    {
     "name": "stdout",
     "output_type": "stream",
     "text": [
      "Category Tree:\n",
      "   categoryid  parentid\n",
      "0        1016     213.0\n",
      "1         809     169.0\n",
      "2         570       9.0\n",
      "3        1691     885.0\n",
      "4         536    1691.0\n",
      "\n",
      " Events:\n",
      "       timestamp  visitorid event  itemid  transactionid\n",
      "0  1433221332117     257597  view  355908            NaN\n",
      "1  1433224214164     992329  view  248676            NaN\n",
      "2  1433221999827     111016  view  318965            NaN\n",
      "3  1433221955914     483717  view  253185            NaN\n",
      "4  1433221337106     951259  view  367447            NaN\n",
      "\n",
      " Item Properties Part 1:\n",
      "       timestamp  itemid    property                            value\n",
      "0  1435460400000  460429  categoryid                             1338\n",
      "1  1441508400000  206783         888          1116713 960601 n277.200\n",
      "2  1439089200000  395014         400  n552.000 639502 n720.000 424566\n",
      "3  1431226800000   59481         790                       n15360.000\n",
      "4  1431831600000  156781         917                           828513\n",
      "\n",
      " Item Properties Part 2:\n",
      "       timestamp  itemid property            value\n",
      "0  1433041200000  183478      561           769062\n",
      "1  1439694000000  132256      976  n26.400 1135780\n",
      "2  1435460400000  420307      921  1149317 1257525\n",
      "3  1431831600000  403324      917          1204143\n",
      "4  1435460400000  230701      521           769062\n"
     ]
    }
   ],
   "source": [
    "import kaggle\n",
    "import subprocess\n",
    "import zipfile\n",
    "import pandas as pd\n",
    "import pandas as pd\n",
    "import numpy as np\n",
    "\n",
    "# Télécharger le dataset depuis Kaggle\n",
    "subprocess.run([\"kaggle\", \"datasets\", \"download\", \"-d\", \"retailrocket/ecommerce-dataset\"])\n",
    "\n",
    "# Décompresser le fichier zip téléchargé\n",
    "with zipfile.ZipFile('ecommerce-dataset.zip', 'r') as zip_ref:\n",
    "    zip_ref.extractall('../data/')\n",
    "\n",
    "# Charger les fichiers CSV dans des DataFrames Pandas\n",
    "category_tree = pd.read_csv('../data/category_tree.csv')\n",
    "events = pd.read_csv('../data/events.csv')\n",
    "item_properties_part1 = pd.read_csv('../data/item_properties_part1.csv')\n",
    "item_properties_part2 = pd.read_csv('../data/item_properties_part2.csv')\n",
    "\n",
    "# Afficher les premières lignes de chaque DataFrame pour inspection\n",
    "print(\"Category Tree:\")\n",
    "print(category_tree.head())\n",
    "\n",
    "print(\"\\n Events:\")\n",
    "print(events.head())\n",
    "\n",
    "print(\"\\n Item Properties Part 1:\")\n",
    "print(item_properties_part1.head())\n",
    "\n",
    "print(\"\\n Item Properties Part 2:\")\n",
    "print(item_properties_part2.head())"
   ]
  },
  {
   "cell_type": "markdown",
   "metadata": {},
   "source": []
  },
  {
   "cell_type": "markdown",
   "metadata": {},
   "source": []
  },
  {
   "cell_type": "code",
   "execution_count": null,
   "metadata": {},
   "outputs": [],
   "source": []
  },
  {
   "cell_type": "markdown",
   "metadata": {},
   "source": [
    "# I. Nettoyage des données pour faciliter mes analyses"
   ]
  },
  {
   "cell_type": "markdown",
   "metadata": {},
   "source": [
    "# 1. fusionner des datas identiques"
   ]
  },
  {
   "cell_type": "code",
   "execution_count": 167,
   "metadata": {},
   "outputs": [
    {
     "name": "stdout",
     "output_type": "stream",
     "text": [
      " nouvelle table des proprites : \n",
      "             timestamp  itemid    property                             value\n",
      "0        1435460400000  460429  categoryid                              1338\n",
      "1        1441508400000  206783         888           1116713 960601 n277.200\n",
      "2        1439089200000  395014         400   n552.000 639502 n720.000 424566\n",
      "3        1431226800000   59481         790                        n15360.000\n",
      "4        1431831600000  156781         917                            828513\n",
      "...                ...     ...         ...                               ...\n",
      "9275898  1433646000000  236931         929                           n12.000\n",
      "9275899  1440903600000  455746           6                     150169 639134\n",
      "9275900  1439694000000  347565         686                            610834\n",
      "9275901  1433646000000  287231         867                            769062\n",
      "9275902  1442113200000  275768         888  888666 n10800.000 746840 1318567\n",
      "\n",
      "[20275902 rows x 4 columns]\n"
     ]
    }
   ],
   "source": [
    "item_properties = pd.concat([item_properties_part1, item_properties_part2])\n",
    "copie_items_properties=item_properties.copy()\n",
    "\n",
    "print(f\" nouvelle table des proprites : \\n{copie_items_properties}\")"
   ]
  },
  {
   "cell_type": "markdown",
   "metadata": {},
   "source": [
    "# 2. Vérifier les valeurs manquantes# Vérifier les valeurs manquantes"
   ]
  },
  {
   "cell_type": "code",
   "execution_count": 168,
   "metadata": {},
   "outputs": [
    {
     "name": "stdout",
     "output_type": "stream",
     "text": [
      " valeurs manquantes pour la table item_properties : \n",
      "timestamp    0\n",
      "itemid       0\n",
      "property     0\n",
      "value        0\n",
      "dtype: int64\n",
      "\n",
      "\n",
      " valeurs manquantes pour la table events : \n",
      "timestamp              0\n",
      "visitorid              0\n",
      "event                  0\n",
      "itemid                 0\n",
      "transactionid    2733644\n",
      "dtype: int64\n",
      "\n",
      "\n",
      " valeurs manquantes pour la table categorie : \n",
      "categoryid     0\n",
      "parentid      25\n",
      "dtype: int64\n",
      "\n",
      "\n"
     ]
    }
   ],
   "source": [
    "print(f\" valeurs manquantes pour la table item_properties : \\n{item_properties.isnull().sum()}\\n\\n\")\n",
    "print(f\" valeurs manquantes pour la table events : \\n{events.isnull().sum()}\\n\\n\")\n",
    "print(f\" valeurs manquantes pour la table categorie : \\n{category_tree.isnull().sum()}\\n\\n\")"
   ]
  },
  {
   "cell_type": "markdown",
   "metadata": {},
   "source": [
    "# Analyse des valeurs manquantes :\n",
    "# Table item_properties : Aucune valeur manquante, données complètes.\n",
    "# Table events : transactionid manquant pour 2 733 644 lignes, indiquant des événements sans transaction (ex: vues, ajouts au # panier). ⚠️ Risque d’analyse incomplète si ces absences ne sont pas prises en compte.\n",
    "# Table categorie : parentid manquant pour 25 catégories, probablement des catégories racines. ⚠️ Peut impacter l’analyse des # hiérarchies."
   ]
  },
  {
   "cell_type": "markdown",
   "metadata": {},
   "source": [
    ".................................................................................................................................\n",
    ".................................................................................................................................\n",
    ".................................................................................................................................\n",
    ".................................................................................................................................\n",
    ".................................................................................................................................\n",
    ".................................................................................................................................\n",
    "# II. analyse sur la table Events\n",
    ".................................................................................................................................\n",
    ".................................................................................................................................\n",
    ".................................................................................................................................\n",
    ".................................................................................................................................\n",
    ".................................................................................................................................\n",
    "................................................................................................................................."
   ]
  },
  {
   "cell_type": "markdown",
   "metadata": {},
   "source": []
  },
  {
   "cell_type": "markdown",
   "metadata": {},
   "source": [
    "# 1. observation sur la table"
   ]
  },
  {
   "cell_type": "code",
   "execution_count": 169,
   "metadata": {},
   "outputs": [
    {
     "name": "stdout",
     "output_type": "stream",
     "text": [
      "tête de la table : \n",
      "       timestamp  visitorid event  itemid  transactionid\n",
      "0  1433221332117     257597  view  355908            NaN\n",
      "1  1433224214164     992329  view  248676            NaN\n",
      "2  1433221999827     111016  view  318965            NaN\n",
      "3  1433221955914     483717  view  253185            NaN\n",
      "4  1433221337106     951259  view  367447            NaN\n"
     ]
    }
   ],
   "source": [
    "print(f\"tête de la table : \\n{events.head()}\")"
   ]
  },
  {
   "cell_type": "markdown",
   "metadata": {},
   "source": [
    "# 2. amelioration ou conversion de timestamp en format date"
   ]
  },
  {
   "cell_type": "code",
   "execution_count": 170,
   "metadata": {},
   "outputs": [],
   "source": [
    "events[\"timestamp\"]= pd.to_datetime(events[\"timestamp\"], unit=\"ms\")"
   ]
  },
  {
   "cell_type": "code",
   "execution_count": 171,
   "metadata": {},
   "outputs": [
    {
     "name": "stdout",
     "output_type": "stream",
     "text": [
      "size_event : \n",
      "event\n",
      "addtocart        69332\n",
      "transaction      22457\n",
      "view           2664312\n",
      "dtype: int64\n"
     ]
    }
   ],
   "source": [
    "# occurence des valeurs de events \n",
    "\n",
    "event_attributes = events.groupby(\"event\").size()\n",
    "print(f\"size_event : \\n{event_attributes}\")"
   ]
  },
  {
   "cell_type": "code",
   "execution_count": 178,
   "metadata": {},
   "outputs": [
    {
     "name": "stderr",
     "output_type": "stream",
     "text": [
      "C:\\Users\\user\\AppData\\Local\\Temp\\ipykernel_24884\\1693132528.py:6: FutureWarning: \n",
      "\n",
      "Passing `palette` without assigning `hue` is deprecated and will be removed in v0.14.0. Assign the `x` variable to `hue` and set `legend=False` for the same effect.\n",
      "\n",
      "  sns.barplot(x=event_attributes.index, y=event_attributes.values, palette=\"viridis\")\n"
     ]
    },
    {
     "data": {
      "image/png": "[encoded data removed]",
      "text/plain": [
       "<Figure size 1200x600 with 1 Axes>"
      ]
     },
     "metadata": {},
     "output_type": "display_data"
    }
   ],
   "source": [
    "import matplotlib.pyplot as plt\n",
    "import seaborn as sns\n",
    "\n",
    "# Création du graphique\n",
    "plt.figure(figsize=(12, 6))\n",
    "sns.barplot(x=event_attributes.index, y=event_attributes.values, palette=\"viridis\")\n",
    "\n",
    "# Ajout des titres et labels\n",
    "plt.xlabel(\"Type d'événement\")\n",
    "plt.ylabel(\"Nombre d'occurrences\")\n",
    "plt.title(\"Distribution des événements\")\n",
    "plt.xticks(rotation=45)  # Rotation des labels pour une meilleure lisibilité\n",
    "\n",
    "# Affichage du graphique\n",
    "plt.show()\n"
   ]
  },
  {
   "cell_type": "markdown",
   "metadata": {},
   "source": [
    "# 3. selectionne des valeurs unique d'event "
   ]
  },
  {
   "cell_type": "code",
   "execution_count": 172,
   "metadata": {},
   "outputs": [
    {
     "name": "stdout",
     "output_type": "stream",
     "text": [
      "selection_event view: \n",
      "\n",
      "                      timestamp  visitorid event  itemid  transactionid\n",
      "0       2015-06-02 05:02:12.117     257597  view  355908            NaN\n",
      "1       2015-06-02 05:50:14.164     992329  view  248676            NaN\n",
      "2       2015-06-02 05:13:19.827     111016  view  318965            NaN\n",
      "3       2015-06-02 05:12:35.914     483717  view  253185            NaN\n",
      "4       2015-06-02 05:02:17.106     951259  view  367447            NaN\n",
      "...                         ...        ...   ...     ...            ...\n",
      "2756096 2015-08-01 03:13:05.939     591435  view  261427            NaN\n",
      "2756097 2015-08-01 03:30:13.142     762376  view  115946            NaN\n",
      "2756098 2015-08-01 02:57:00.527    1251746  view   78144            NaN\n",
      "2756099 2015-08-01 03:08:50.703    1184451  view  283392            NaN\n",
      "2756100 2015-08-01 03:36:03.914     199536  view  152913            NaN\n",
      "\n",
      "[2664312 rows x 5 columns]\n",
      "selection_event addtocart: \n",
      "\n",
      "                      timestamp  visitorid      event  itemid  transactionid\n",
      "17      2015-06-02 05:33:56.124     287857  addtocart    5206            NaN\n",
      "19      2015-06-02 04:57:58.505     158090  addtocart   10572            NaN\n",
      "63      2015-06-02 05:39:03.021    1193904  addtocart  255275            NaN\n",
      "112     2015-06-02 05:12:21.632     599528  addtocart  356475            NaN\n",
      "179     2015-06-02 04:54:40.956     105775  addtocart  312728            NaN\n",
      "...                         ...        ...        ...     ...            ...\n",
      "2755956 2015-08-01 03:40:00.805     831605  addtocart   57810            NaN\n",
      "2756056 2015-08-01 03:02:36.086      10670  addtocart  419736            NaN\n",
      "2756074 2015-08-01 03:49:54.744     144106  addtocart  141241            NaN\n",
      "2756078 2015-08-01 03:30:07.937     804736  addtocart  447661            NaN\n",
      "2756090 2015-08-01 03:30:11.281     804736  addtocart  346534            NaN\n",
      "\n",
      "[69332 rows x 5 columns]\n",
      "selection_event transaction: \n",
      "\n",
      "                      timestamp  visitorid        event  itemid  transactionid\n",
      "130     2015-06-02 05:17:56.276     599528  transaction  356475         4000.0\n",
      "304     2015-06-01 21:18:20.981     121688  transaction   15335        11117.0\n",
      "418     2015-06-01 21:25:15.008     552148  transaction   81345         5444.0\n",
      "814     2015-06-01 16:38:56.375     102019  transaction  150318        13556.0\n",
      "843     2015-06-01 16:01:58.180     189384  transaction  310791         7244.0\n",
      "...                         ...        ...          ...     ...            ...\n",
      "2755294 2015-07-31 21:12:56.570    1050575  transaction   31640         8354.0\n",
      "2755349 2015-07-31 21:57:58.779     861299  transaction  456602         3643.0\n",
      "2755508 2015-07-31 15:48:50.123     855941  transaction  235771         4385.0\n",
      "2755603 2015-07-31 15:12:40.300     548772  transaction   29167        13872.0\n",
      "2755607 2015-07-31 16:09:49.163    1051054  transaction  312728        17579.0\n",
      "\n",
      "[22457 rows x 5 columns]\n"
     ]
    }
   ],
   "source": [
    "event_view = events[events[\"event\"]==\"view\"]\n",
    "event_addtocart = events[events[\"event\"]==\"addtocart\"]\n",
    "event_transaction = events[events[\"event\"]==\"transaction\"]\n",
    "print(f\"selection_event view: \\n\\n{event_view}\")\n",
    "print(f\"selection_event addtocart: \\n\\n{event_addtocart}\")\n",
    "print(f\"selection_event transaction: \\n\\n{event_transaction}\")"
   ]
  },
  {
   "cell_type": "markdown",
   "metadata": {},
   "source": [
    "# 4. Analyse des événements pour comprendre le comportement utilisateur et calculer le taux de conversion\n"
   ]
  },
  {
   "cell_type": "markdown",
   "metadata": {},
   "source": [
    "# a. Identifier les utilisateurs ayant ajouté un produit au panier"
   ]
  },
  {
   "cell_type": "code",
   "execution_count": 173,
   "metadata": {},
   "outputs": [
    {
     "name": "stdout",
     "output_type": "stream",
     "text": [
      "utilisateurs qui ont ajoute un produit au panier: \n",
      "\n",
      "[ 287857  158090 1193904 ...  236222  831605  144106]\n"
     ]
    }
   ],
   "source": [
    "user_addtocart = event_addtocart[\"visitorid\"].unique()\n",
    "print(f\"utilisateurs qui ont ajoute un produit au panier: \\n\\n{user_addtocart}\")"
   ]
  },
  {
   "cell_type": "markdown",
   "metadata": {},
   "source": [
    "# b. Identifier les utilisateurs ayant vue des produits sans ajouté  au panier"
   ]
  },
  {
   "cell_type": "code",
   "execution_count": 174,
   "metadata": {},
   "outputs": [
    {
     "name": "stdout",
     "output_type": "stream",
     "text": [
      "Utilisateurs ayant vu des produits sans ajouter au panier : \n",
      "\n",
      "[ 257597  992329  111016 ...  591435  762376 1184451]\n"
     ]
    }
   ],
   "source": [
    "user_view_only = event_view[~event_view['visitorid'].isin(user_addtocart)]['visitorid'].unique()\n",
    "print(f\"Utilisateurs ayant vu des produits sans ajouter au panier : \\n\\n{user_view_only}\")\n",
    "\n"
   ]
  },
  {
   "cell_type": "markdown",
   "metadata": {},
   "source": [
    "# 3 Calculer le taux de conversion pour les deux groupes"
   ]
  },
  {
   "cell_type": "code",
   "execution_count": 175,
   "metadata": {},
   "outputs": [
    {
     "name": "stdout",
     "output_type": "stream",
     "text": [
      "Taux de conversion des utilisateurs ayant ajouté un produit au panier : 28.04%\n",
      "Taux de conversion des utilisateurs ayant seulement vu des produits : 0.08%\n"
     ]
    }
   ],
   "source": [
    "conv_addtocart = event_transaction[event_transaction[\"visitorid\"].isin(user_addtocart)][\"visitorid\"].nunique()/len(user_addtocart)\n",
    "\n",
    "conv_view_only = event_transaction[event_transaction[\"visitorid\"].isin(user_view_only)][\"visitorid\"].nunique()/len(user_view_only)\n",
    "# Affichage des résultats\n",
    "print(f\"Taux de conversion des utilisateurs ayant ajouté un produit au panier : {conv_addtocart:.2%}\")\n",
    "print(f\"Taux de conversion des utilisateurs ayant seulement vu des produits : {conv_view_only:.2%}\")"
   ]
  },
  {
   "cell_type": "markdown",
   "metadata": {},
   "source": [
    "# ✅ Les utilisateurs qui ajoutent un produit au panier ont un taux de conversion beaucoup plus élevé (28.04%) que ceux qui se contentent de voir les produits (0.08%)."
   ]
  },
  {
   "cell_type": "code",
   "execution_count": 176,
   "metadata": {},
   "outputs": [
    {
     "data": {
      "text/plain": [
       "\"3️⃣ Conclusion générale\\nL'ajout au panier est un levier clé pour améliorer \\nles conversions. Il est donc essentiel d'optimiser cette étape et de trouver des moyens \\nd'inciter plus d'utilisateurs à franchir le \\ncap entre la simple consultation et l'achat.\\n\\n💡 Action recommandée : Mettre en place des\\n stratégies pour transformer plus de visiteurs \\n en acheteurs en optimisant le tunnel de conversion (ex : notifications, offres limitées, simplification du checkout).\""
      ]
     },
     "execution_count": 176,
     "metadata": {},
     "output_type": "execute_result"
    }
   ],
   "source": [
    "\"\"\"3️⃣ Conclusion générale\n",
    "L'ajout au panier est un levier clé pour améliorer \n",
    "les conversions. Il est donc essentiel d'optimiser cette étape et de trouver des moyens \n",
    "d'inciter plus d'utilisateurs à franchir le \n",
    "cap entre la simple consultation et l'achat.\n",
    "\n",
    "💡 Action recommandée : Mettre en place des\n",
    " stratégies pour transformer plus de visiteurs \n",
    " en acheteurs en optimisant le tunnel de conversion (ex : notifications, offres limitées, simplification du checkout).\"\"\""
   ]
  },
  {
   "cell_type": "code",
   "execution_count": 177,
   "metadata": {},
   "outputs": [
    {
     "data": {
      "image/png": "[encoded data removed]",
      "text/plain": [
       "<Figure size 2000x1000 with 1 Axes>"
      ]
     },
     "metadata": {},
     "output_type": "display_data"
    }
   ],
   "source": [
    "import matplotlib.pyplot as plt\n",
    "\n",
    "# Données\n",
    "categories = ['Ajout au panier', 'Vue uniquement']\n",
    "taux_conversion = [28.04, 0.08]\n",
    "\n",
    "# Création de la figure\n",
    "plt.figure(figsize=(20, 10))  # Taille de la figure\n",
    "\n",
    "# Tracer le graphique à barres\n",
    "plt.bar(categories, taux_conversion, color=['blue', 'red'])\n",
    "\n",
    "# Ajouter les labels\n",
    "plt.xlabel(\"Catégories d'utilisateurs\", fontsize=12)\n",
    "plt.ylabel(\"Taux de conversion (%)\", fontsize=12)\n",
    "plt.title(\"Comparaison du taux de conversion\", fontsize=14)\n",
    "\n",
    "\n",
    "# Ajouter les valeurs au-dessus des barres\n",
    "for i, v in enumerate(taux_conversion):\n",
    "    plt.text(i, v + 1, f\"{v}%\", ha='center', fontsize=12, fontweight='bold')\n",
    "\n",
    "# Affichage du graphique\n",
    "plt.show()\n"
   ]
  },
  {
   "cell_type": "markdown",
   "metadata": {},
   "source": [
    ".................................................................................................................................\n",
    ".................................................................................................................................\n",
    ".................................................................................................................................\n",
    ".................................................................................................................................\n",
    ".................................................................................................................................\n",
    ".................................................................................................................................\n",
    "# III. analyse sur la table item_properties_part1 et item_properties_part1\n",
    ".................................................................................................................................\n",
    ".................................................................................................................................\n",
    ".................................................................................................................................\n",
    ".................................................................................................................................\n",
    ".................................................................................................................................\n",
    "................................................................................................................................."
   ]
  }
 ],
 "metadata": {
  "kernelspec": {
   "display_name": "base",
   "language": "python",
   "name": "python3"
  },
  "language_info": {
   "codemirror_mode": {
    "name": "ipython",
    "version": 3
   },
   "file_extension": ".py",
   "mimetype": "text/x-python",
   "name": "python",
   "nbconvert_exporter": "python",
   "pygments_lexer": "ipython3",
   "version": "3.12.7"
  }
 },
 "nbformat": 4,
 "nbformat_minor": 2
}
